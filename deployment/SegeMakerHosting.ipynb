{
 "cells": [
  {
   "attachments": {},
   "cell_type": "markdown",
   "id": "e4f4c029",
   "metadata": {},
   "source": [
    "## Creating `model.tar.gz`"
   ]
  },
  {
   "cell_type": "code",
   "execution_count": null,
   "id": "79a1909f",
   "metadata": {},
   "outputs": [],
   "source": [
    "import tarfile\n",
    "\n",
    "model_path = \"./inference/lit-bert-for-maskedlm-yymmdd.pth\"\n",
    "code_path = \"./inference/code/\"\n",
    "\n",
    "zipped_model_path = \"./model.tar.gz\"\n",
    "\n",
    "with tarfile.open(zipped_model_path, \"w:gz\") as tar:\n",
    "    tar.add(model_path, arcname=\"lit-bert-for-maskedlm-yymmdd.pth\")\n",
    "    tar.add(code_path, arcname=\"code/\")\n",
    "    \n",
    "# Upload to S3 Bucket"
   ]
  },
  {
   "attachments": {},
   "cell_type": "markdown",
   "id": "3bb459d3",
   "metadata": {},
   "source": [
    "## Preparation"
   ]
  },
  {
   "cell_type": "code",
   "execution_count": null,
   "id": "a6217a4f",
   "metadata": {},
   "outputs": [],
   "source": [
    "import boto3\n",
    "import sagemaker\n",
    "\n",
    "region = boto3.Session().region_name\n",
    "client = boto3.client(\"sagemaker\", region_name=region)\n",
    "\n",
    "# The name of the model that you want to host. This is the name that you specified when creating the model.\n",
    "model_name='<The_name_of_your_model>'\n",
    "# Create an endpoint config name.\n",
    "endpoint_config_name = '<endpoint-config-name>'\n",
    "# The name of the endpoint. The name must be unique within an AWS Region in your AWS account.\n",
    "endpoint_name = '<endpoint-name>' "
   ]
  },
  {
   "attachments": {},
   "cell_type": "markdown",
   "id": "5c58bc54",
   "metadata": {},
   "source": [
    "## Create a Model"
   ]
  },
  {
   "cell_type": "code",
   "execution_count": null,
   "id": "b3b06a82",
   "metadata": {},
   "outputs": [],
   "source": [
    "#Role to give SageMaker permission to access AWS services.\n",
    "sagemaker_role = sagemaker.get_execution_role()\n",
    "\n",
    "bucket_name = '<your bucket_name>'\n",
    "s3_prefix = '<your s3_prefix>'\n",
    "\n",
    "# model S3 url\n",
    "model_url = f\"s3://{bucket_name}/{s3_prefix}/model.tar.gz\".format(bucket_name=bucket_name, s3_prefix=s3_prefix)\n",
    "\n",
    "# Get container image (prebuilt example)\n",
    "from sagemaker import image_uris\n",
    "image_uri = image_uris.retrieve(\n",
    "    framework=\"pytorch\",\n",
    "    region=region,\n",
    "    version=\"1.13.1\",\n",
    "    py_version=\"py39\",\n",
    "    image_scope='inference',\n",
    "    instance_type=\"ml.t2.medium\"\n",
    ")\n",
    "\n",
    "response = client.create_model(\n",
    "    ModelName = model_name,\n",
    "    ExecutionRoleArn = sagemaker_role,\n",
    "    Containers = [{\n",
    "        \"Image\": image_uri,\n",
    "        \"Mode\": \"SingleModel\",\n",
    "        \"ModelDataUrl\": model_url,\n",
    "    }]\n",
    ")"
   ]
  },
  {
   "attachments": {},
   "cell_type": "markdown",
   "id": "2d350446",
   "metadata": {},
   "source": [
    "## Create an Endpoint Configuration"
   ]
  },
  {
   "attachments": {},
   "cell_type": "markdown",
   "id": "daccf2f8",
   "metadata": {},
   "source": [
    "Reference:\n",
    "* [Deploying ML models using SageMaker Serverless Inference](https://aws.amazon.com/blogs/machine-learning/deploying-ml-models-using-sagemaker-serverless-inference-preview/)\n",
    "* [Docker Registry Paths and Example Code for Asia Pacific(`image_uri`)](https://docs.aws.amazon.com/sagemaker/latest/dg/ecr-ap-northeast-1.html#pytorch-ap-northeast-1.title)\n",
    "* [Available Deep Learning Containers Images](https://github.com/aws/deep-learning-containers/blob/master/available_images.md)\n",
    "* [About create-endpoint-config](https://awscli.amazonaws.com/v2/documentation/api/latest/reference/sagemaker/create-endpoint-config.html)"
   ]
  },
  {
   "attachments": {},
   "cell_type": "markdown",
   "id": "6239a762",
   "metadata": {},
   "source": [
    "### Real-time"
   ]
  },
  {
   "cell_type": "code",
   "execution_count": null,
   "id": "e8d1a165",
   "metadata": {},
   "outputs": [],
   "source": [
    "# instance_type='ml.m5.xlarge' # Example                            \n",
    "instance_type = '<instance-type>'\n",
    "\n",
    "endpoint_config_response = client.create_endpoint_config(\n",
    "    EndpointConfigName=endpoint_config_name, # You will specify this name in a CreateEndpoint request.\n",
    "    # List of ProductionVariant objects, one for each model that you want to host at this endpoint.\n",
    "    ProductionVariants=[\n",
    "        {\n",
    "            \"VariantName\": \"mlBert\", # The name of the production variant.\n",
    "            \"ModelName\": model_name, \n",
    "            \"InstanceType\": instance_type, # Specify the compute instance type.\n",
    "            \"InitialInstanceCount\": 1 # Number of instances to launch initially.\n",
    "        }\n",
    "    ]\n",
    ")\n",
    "\n",
    "print(f\"Created EndpointConfig: {endpoint_config_response['EndpointConfigArn']}\")"
   ]
  },
  {
   "attachments": {},
   "cell_type": "markdown",
   "id": "68dabd53",
   "metadata": {},
   "source": [
    "### Serverless"
   ]
  },
  {
   "cell_type": "code",
   "execution_count": null,
   "id": "2d3e6779",
   "metadata": {},
   "outputs": [],
   "source": [
    "endpoint_config_response = client.create_endpoint_config(\n",
    "    EndpointConfigName=endpoint_config_name,\n",
    "    ProductionVariants=[\n",
    "        {\n",
    "        \"VariantName\": \"mlBert\",\n",
    "        \"ModelName\": model_name,\n",
    "        \"ServerlessConfig\": {\n",
    "            \"MemorySizeInMB\": 2048,\n",
    "            \"MaxConcurrency\": 1,\n",
    "            },\n",
    "        },\n",
    "    ],\n",
    ")\n",
    "\n",
    "print(\"Endpoint Configuration Arn: \" + endpoint_config_response[\"EndpointConfigArn\"])"
   ]
  },
  {
   "attachments": {},
   "cell_type": "markdown",
   "id": "f7b16d3d",
   "metadata": {},
   "source": [
    "## Deploy"
   ]
  },
  {
   "cell_type": "code",
   "execution_count": null,
   "id": "5b2154d8",
   "metadata": {},
   "outputs": [],
   "source": [
    "# Deploy\n",
    "create_endpoint_response = client.create_endpoint(\n",
    "    EndpointName=endpoint_name,\n",
    "    EndpointConfigName=mlbert_serverless_epc_name,\n",
    ")\n",
    "\n",
    "print(\"Endpoint Arn: \" + create_endpoint_response[\"EndpointArn\"])\n",
    "\n",
    "# wait for endpoint to reach a terminal state (InService) using describe endpoint\n",
    "import time\n",
    "describe_endpoint_response = client.describe_endpoint(EndpointName=endpoint_name)\n",
    "while describe_endpoint_response[\"EndpointStatus\"] == \"Creating\":\n",
    "    describe_endpoint_response = client.describe_endpoint(EndpointName=endpoint_name)\n",
    "    print(describe_endpoint_response[\"EndpointStatus\"])\n",
    "    time.sleep(30)\n",
    "\n",
    "describe_endpoint_response"
   ]
  },
  {
   "attachments": {},
   "cell_type": "markdown",
   "id": "a7ef79e3",
   "metadata": {},
   "source": [
    "### Make a Prediction"
   ]
  },
  {
   "attachments": {},
   "cell_type": "markdown",
   "id": "d0386ee5",
   "metadata": {},
   "source": [
    "#### SageMaker Studio"
   ]
  },
  {
   "cell_type": "code",
   "execution_count": null,
   "id": "89c86f6c",
   "metadata": {},
   "outputs": [],
   "source": [
    "import json\n",
    "import sagemaker\n",
    "\n",
    "sm = sagemaker.Session().sagemaker_runtime_client\n",
    "\n",
    "payload =\"明日の天気はどうですか。\"\n",
    "\n",
    "response = sm.invoke_endpoint(\n",
    "    EndpointName=endpoint_name, \n",
    "    Body=payload, \n",
    "    ContentType=\"application/json\"\n",
    ")\n",
    "\n",
    "result = json.loads(response['Body'].read().decode('utf8'))\n",
    "result"
   ]
  },
  {
   "attachments": {},
   "cell_type": "markdown",
   "id": "136283d4",
   "metadata": {},
   "source": [
    "#### Locally"
   ]
  },
  {
   "cell_type": "code",
   "execution_count": null,
   "id": "d92151c1",
   "metadata": {},
   "outputs": [],
   "source": [
    "import json\n",
    "import boto3\n",
    "\n",
    "client = boto3.client('sagemaker-runtime', region_name='ap-northeast-1')\n",
    "\n",
    "payload =\"今日の天気はどうですか。\"\n",
    "\n",
    "response = client.invoke_endpoint(\n",
    "    EndpointName=endpoint_name, Body=payload, ContentType=\"text/csv\"\n",
    ")\n",
    "\n",
    "resp = json.loads(response['Body'].read().decode('utf-8'))\n",
    "resp"
   ]
  },
  {
   "attachments": {},
   "cell_type": "markdown",
   "id": "79b36617",
   "metadata": {},
   "source": [
    "### Test API Gateway"
   ]
  },
  {
   "cell_type": "code",
   "execution_count": null,
   "id": "285ffcf5",
   "metadata": {},
   "outputs": [],
   "source": [
    "import json\n",
    "import requests\n",
    "\n",
    "# Set throtting at 'Stage -> Stage Editor'\n",
    "\n",
    "api_id = '<API Gateway ID>'\n",
    "\n",
    "url = f\"https://{api_id}.execute-api.ap-northeast-1.amazonaws.com/api/bertjsc\".format(api_id=api_id)\n",
    "\n",
    "headers = {\n",
    "    \"Content-Type\": \"application/json\",\n",
    "    \"Accept\": \"application/json\"\n",
    "}\n",
    "payload = {'text': '今日はいい天気です。'}\n",
    "\n",
    "resp = requests.post(url, data =json.dumps(payload), headers=headers)\n",
    "\n",
    "resp.json()"
   ]
  }
 ],
 "metadata": {
  "kernelspec": {
   "display_name": "Python 3 (ipykernel)",
   "language": "python",
   "name": "python3"
  },
  "language_info": {
   "codemirror_mode": {
    "name": "ipython",
    "version": 3
   },
   "file_extension": ".py",
   "mimetype": "text/x-python",
   "name": "python",
   "nbconvert_exporter": "python",
   "pygments_lexer": "ipython3",
   "version": "3.10.7"
  }
 },
 "nbformat": 4,
 "nbformat_minor": 5
}
