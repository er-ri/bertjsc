{
 "cells": [
  {
   "cell_type": "markdown",
   "id": "e4f4c029",
   "metadata": {},
   "source": [
    "### Creating `model.tar.gz`"
   ]
  },
  {
   "cell_type": "code",
   "execution_count": 2,
   "id": "79a1909f",
   "metadata": {},
   "outputs": [],
   "source": [
    "import tarfile\n",
    "\n",
    "model_path = \"./inference/lit-bert-for-maskedlm-230126.pth\"\n",
    "code_path = \"./inference/code/\"\n",
    "\n",
    "zipped_model_path = \"./model.tar.gz\"\n",
    "\n",
    "with tarfile.open(zipped_model_path, \"w:gz\") as tar:\n",
    "    tar.add(model_path, arcname=\"lit-bert-for-maskedlm-230126.pth\")\n",
    "    tar.add(code_path, arcname=\"code/\")"
   ]
  },
  {
   "cell_type": "markdown",
   "id": "155e747c",
   "metadata": {},
   "source": [
    "### Deploy (Real-time Inference)"
   ]
  },
  {
   "cell_type": "code",
   "execution_count": null,
   "id": "e0c0c1bb",
   "metadata": {},
   "outputs": [],
   "source": [
    "from sagemaker.pytorch import PyTorchModel\n",
    "from sagemaker import get_execution_role\n",
    "import time\n",
    "\n",
    "endpoint_name = \"lit-bert-for-maskedlm-yymmdd-\" + time.strftime(\"%Y-%m-%d-%H-%M-%S\", time.gmtime())\n",
    "\n",
    "# Set the 'role' manually if operate on local environment.\n",
    "model = PyTorchModel(\n",
    "    entry_point=\"inference.py\",\n",
    "    model_data=zipped_model_path,\n",
    "    role=get_execution_role(),\n",
    "    framework_version=\"1.5\",\n",
    "    py_version=\"py3\",\n",
    ")\n",
    "\n",
    "predictor = model.deploy(\n",
    "    initial_instance_count=1, instance_type=\"ml.m5.xlarge\", endpoint_name=endpoint_name\n",
    ")"
   ]
  },
  {
   "cell_type": "markdown",
   "id": "098853b3",
   "metadata": {},
   "source": [
    "### Deploy (Serverless Inference)"
   ]
  },
  {
   "cell_type": "markdown",
   "id": "daccf2f8",
   "metadata": {},
   "source": [
    "Reference:\n",
    "* [Deploying ML models using SageMaker Serverless Inference](https://aws.amazon.com/blogs/machine-learning/deploying-ml-models-using-sagemaker-serverless-inference-preview/)\n",
    "* [Docker Registry Paths and Example Code for Asia Pacific(`image_uri`)](https://docs.aws.amazon.com/sagemaker/latest/dg/ecr-ap-northeast-1.html#pytorch-ap-northeast-1.title)\n",
    "* [Available Deep Learning Containers Images](https://github.com/aws/deep-learning-containers/blob/master/available_images.md)\n",
    "* [About create-endpoint-config](https://awscli.amazonaws.com/v2/documentation/api/latest/reference/sagemaker/create-endpoint-config.html)"
   ]
  },
  {
   "cell_type": "code",
   "execution_count": null,
   "id": "83946efe",
   "metadata": {},
   "outputs": [],
   "source": [
    "# Creating Model\n",
    "import boto3\n",
    "import sagemaker\n",
    "\n",
    "from time import gmtime, strftime\n",
    "\n",
    "region = boto3.Session().region_name\n",
    "client = boto3.client(\"sagemaker\", region_name=region)\n",
    "\n",
    "#Role to give SageMaker permission to access AWS services.\n",
    "sagemaker_role = sagemaker.get_execution_role()\n",
    "\n",
    "bucket_name = '<your bucket_name>'\n",
    "s3_prefix = '<your s3_prefix>'\n",
    "\n",
    "#Get model from S3\n",
    "model_url = f\"s3://{bucket_name}/{s3_prefix}/model.tar.gz\".format(bucket_name=bucket_name, s3_prefix=s3_prefix)\n",
    "\n",
    "#Get container image (prebuilt example)\n",
    "from sagemaker import image_uris\n",
    "image_uri = image_uris.retrieve(\n",
    "    framework=\"pytorch\",\n",
    "    region=region,\n",
    "    version=\"1.12.0\",\n",
    "    py_version=\"py38\",\n",
    "    image_scope='inference',\n",
    "    instance_type=\"ml.t2.medium\"\n",
    ")\n",
    "\n",
    "#Create model\n",
    "model_name = \"mlbert-serverless-\" + strftime(\"%Y-%m-%d-%H-%M-%S\", gmtime())\n",
    "\n",
    "response = client.create_model(\n",
    "    ModelName = model_name,\n",
    "    ExecutionRoleArn = sagemaker_role,\n",
    "    Containers = [{\n",
    "        \"Image\": image_uri,\n",
    "        \"Mode\": \"SingleModel\",\n",
    "        \"ModelDataUrl\": model_url,\n",
    "    }]\n",
    ")"
   ]
  },
  {
   "cell_type": "code",
   "execution_count": null,
   "id": "062c94f5",
   "metadata": {},
   "outputs": [],
   "source": [
    "# Creating Endpoint Configurations.\n",
    "mlbert_serverless_epc_name = \"mlbert-serverless-epc-\" + strftime(\"%Y-%m-%d-%H-%M-%S\", gmtime())\n",
    "\n",
    "endpoint_config_response = client.create_endpoint_config(\n",
    "    EndpointConfigName=mlbert_serverless_epc_name,\n",
    "    ProductionVariants=[\n",
    "        {\n",
    "        \"VariantName\": \"mlVariant\",\n",
    "        \"ModelName\": model_name,\n",
    "        \"ServerlessConfig\": {\n",
    "            \"MemorySizeInMB\": 2048,\n",
    "            \"MaxConcurrency\": 1,\n",
    "            },\n",
    "        },\n",
    "    ],\n",
    ")\n",
    "print(\"Endpoint Configuration Arn: \" + endpoint_config_response[\"EndpointConfigArn\"])"
   ]
  },
  {
   "cell_type": "code",
   "execution_count": null,
   "id": "e8fc4eac",
   "metadata": {},
   "outputs": [],
   "source": [
    "# Deploy\n",
    "endpoint_name = \"mlbert-serverless-ep-\" + strftime(\"%Y-%m-%d-%H-%M-%S\", gmtime())\n",
    "create_endpoint_response = client.create_endpoint(\n",
    "    EndpointName=endpoint_name,\n",
    "    EndpointConfigName=mlbert_serverless_epc_name,\n",
    ")\n",
    "\n",
    "print(\"Endpoint Arn: \" + create_endpoint_response[\"EndpointArn\"])\n",
    "\n",
    "# wait for endpoint to reach a terminal state (InService) using describe endpoint\n",
    "import time\n",
    "describe_endpoint_response = client.describe_endpoint(EndpointName=endpoint_name)\n",
    "while describe_endpoint_response[\"EndpointStatus\"] == \"Creating\":\n",
    "    describe_endpoint_response = client.describe_endpoint(EndpointName=endpoint_name)\n",
    "    print(describe_endpoint_response[\"EndpointStatus\"])\n",
    "    time.sleep(30)\n",
    "\n",
    "describe_endpoint_response"
   ]
  },
  {
   "cell_type": "markdown",
   "id": "a7ef79e3",
   "metadata": {},
   "source": [
    "### Make a Prediction"
   ]
  },
  {
   "cell_type": "markdown",
   "id": "d0386ee5",
   "metadata": {},
   "source": [
    "#### SageMaker Studio"
   ]
  },
  {
   "cell_type": "code",
   "execution_count": null,
   "id": "89c86f6c",
   "metadata": {},
   "outputs": [],
   "source": [
    "import json\n",
    "import sagemaker\n",
    "\n",
    "sm = sagemaker.Session().sagemaker_runtime_client\n",
    "\n",
    "payload =\"明日の天気はどうですか。\"\n",
    "\n",
    "response = sm.invoke_endpoint(\n",
    "    EndpointName=endpoint_name, \n",
    "    Body=payload, \n",
    "    ContentType=\"application/json\"\n",
    ")\n",
    "\n",
    "result = json.loads(response['Body'].read().decode('utf8'))\n",
    "result"
   ]
  },
  {
   "cell_type": "markdown",
   "id": "136283d4",
   "metadata": {},
   "source": [
    "#### Locally"
   ]
  },
  {
   "cell_type": "code",
   "execution_count": null,
   "id": "d92151c1",
   "metadata": {},
   "outputs": [],
   "source": [
    "import boto3\n",
    "import ujson as json\n",
    "\n",
    "client = boto3.client('sagemaker-runtime', region_name='ap-northeast-1')\n",
    "\n",
    "payload =\"今日の天気はどうですか。\"\n",
    "\n",
    "response = client.invoke_endpoint(\n",
    "    EndpointName=endpoint_name, Body=payload, ContentType=\"text/csv\"\n",
    ")\n",
    "\n",
    "resp = json.loads(response['Body'].read().decode('utf-8'))\n",
    "resp"
   ]
  },
  {
   "cell_type": "markdown",
   "id": "79b36617",
   "metadata": {},
   "source": [
    "### Test API Gateway"
   ]
  },
  {
   "cell_type": "code",
   "execution_count": null,
   "id": "285ffcf5",
   "metadata": {},
   "outputs": [],
   "source": [
    "import requests\n",
    "import json\n",
    "\n",
    "# Set throtting at 'Stage -> Stage Editor'\n",
    "\n",
    "api_id = '<API Gateway ID>'\n",
    "\n",
    "url = f\"https://{api_id}.execute-api.ap-northeast-1.amazonaws.com/api/bertjsc\".format(api_id=api_id)\n",
    "\n",
    "headers = {\n",
    "    \"Content-Type\": \"application/json\",\n",
    "    \"Accept\": \"application/json\"\n",
    "}\n",
    "payload = {'text': '今日はいい天気です。'}\n",
    "\n",
    "resp = requests.post(url, data =json.dumps(payload), headers=headers)\n",
    "\n",
    "resp.json()"
   ]
  }
 ],
 "metadata": {
  "kernelspec": {
   "display_name": "Python 3 (ipykernel)",
   "language": "python",
   "name": "python3"
  },
  "language_info": {
   "codemirror_mode": {
    "name": "ipython",
    "version": 3
   },
   "file_extension": ".py",
   "mimetype": "text/x-python",
   "name": "python",
   "nbconvert_exporter": "python",
   "pygments_lexer": "ipython3",
   "version": "3.10.7"
  }
 },
 "nbformat": 4,
 "nbformat_minor": 5
}
